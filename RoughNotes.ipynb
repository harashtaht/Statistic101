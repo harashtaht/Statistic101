{
 "cells": [
  {
   "cell_type": "markdown",
   "metadata": {},
   "source": [
    "### Statistics for Data Science and Business Analysis\n",
    "- Notes and Exercise\n",
    "--- "
   ]
  },
  {
   "cell_type": "markdown",
   "metadata": {},
   "source": [
    "**Types of Data**\n",
    "\n",
    "1. Categorical\n",
    "    * Describe Categories or groups.\n",
    "    * e.g. Brands, Yes and No Questions\n",
    "\n",
    "\n",
    "2. Numerical\n",
    "<br>\n",
    "    a. Continuous: Infinite.<br>\n",
    "    - e.g: Weight, Height, Area, Distance, Time\n",
    "<br><br>\n",
    "    b. Discrete: Finite matter (value= INT)<br>\n",
    "    - e.g: #of children, test score, Physical Money"
   ]
  },
  {
   "cell_type": "markdown",
   "metadata": {},
   "source": [
    "**Measurement Level**\n",
    "\n",
    "1. Qualitative\n",
    "    * Nominal : Seasons, Brands, gender. Can't be ordered.\n",
    "    * Ordinal : Satisfactory. Follows a strict order.\n",
    "    <br><br>\n",
    "    \n",
    "2. Quantitative\n",
    "    * Interval: Degree. No true 0. (Unless Kelvin, Celcius Fahrenheit has minus values)\n",
    "    * Ratio: Distance, Time. Has a true 0."
   ]
  },
  {
   "cell_type": "markdown",
   "metadata": {},
   "source": []
  }
 ],
 "metadata": {
  "kernelspec": {
   "display_name": "Python 3",
   "language": "python",
   "name": "python3"
  },
  "language_info": {
   "codemirror_mode": {
    "name": "ipython",
    "version": 3
   },
   "file_extension": ".py",
   "mimetype": "text/x-python",
   "name": "python",
   "nbconvert_exporter": "python",
   "pygments_lexer": "ipython3",
   "version": "3.7.3"
  }
 },
 "nbformat": 4,
 "nbformat_minor": 2
}
