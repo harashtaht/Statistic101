{
 "cells": [
  {
   "cell_type": "markdown",
   "metadata": {},
   "source": [
    "### Statistics for Data Science and Business Analysis\n",
    "- Notes and Exercise\n",
    "--- "
   ]
  },
  {
   "cell_type": "markdown",
   "metadata": {},
   "source": [
    "**Types of Data**\n",
    "\n",
    "1. Categorical\n",
    "    * Describe Categories or groups.\n",
    "    * e.g. Brands, Yes and No Questions\n",
    "\n",
    "\n",
    "2. Numerical\n",
    "<br>\n",
    "    a. Continuous: Infinite.<br>\n",
    "    - e.g: Weight, Height, Area, Distance, Time\n",
    "<br><br>\n",
    "    b. Discrete: Finite matter (value= INT)<br>\n",
    "    - e.g: #of children, test score, Physical Money"
   ]
  },
  {
   "cell_type": "markdown",
   "metadata": {},
   "source": [
    "**Measurement Level**\n",
    "\n",
    "1. Qualitative\n",
    "    * Nominal : Seasons, Brands, gender. Can't be ordered.\n",
    "    * Ordinal : Satisfactory. Follows a strict order.\n",
    "    <br><br>\n",
    "    \n",
    "2. Quantitative\n",
    "    * Interval: Degree. No true 0. (Unless Kelvin, Celcius Fahrenheit has minus values)\n",
    "    * Ratio: Distance, Time. Has a true 0."
   ]
  },
  {
   "cell_type": "markdown",
   "metadata": {},
   "source": [
    "**Categorical Variables Visualization Techniques.**\n",
    "\n",
    "\n",
    "1. Frequency Distribution Tables.\n",
    "\n",
    "\n",
    "2. Bar chart/Column chart.\n",
    "\n",
    "\n",
    "3. Pie Chart.\n",
    "    * Market share frequently used this.\n",
    "\n",
    "\n",
    "4. Pareto Diagram.\n",
    "    * Bar chart with a Cumulative Frequency line.\n",
    "    * Comes from Freddo Pareto. -> Pareto Principle: 80% of the effect come from 20% of the causes. 80-20 rules.\n",
    "    * It shows how subtotals change with each additional category and provide us with a better understanding of our data.\n"
   ]
  },
  {
   "cell_type": "markdown",
   "metadata": {},
   "source": [
    "**Numerical Variables Visualization Techniques.**\n",
    "* Resources: 2.3, 2.4\n",
    "\n",
    "\n",
    "1. Frequency Distribution Tables.\n",
    "    * Interval width -> (Highest -  Lowest number)/Desired Interval\n",
    "\n",
    "\n",
    "2. Histogram.\n",
    "    * Looks like bar chart, but using the intervals.\n",
    "\n",
    "*Cross table and Scatter plots used to represent relationship between two variables.\n",
    "\n",
    "3. Cross Tables/Contingency Tables.\n",
    "    * Categorical Variables.\n",
    "    * Side-by-side bar charts.\n",
    "\n",
    "\n",
    "4. Scatter Plots.\n",
    "    * Representing two numerical variables.\n",
    "    * x= Reading, y=Writing, values= Test scores\n",
    "    * Main idea of how the data is distributed."
   ]
  },
  {
   "cell_type": "markdown",
   "metadata": {},
   "source": [
    "Measures of Central Tendency\n",
    "\n",
    "1. Mean\n",
    "   * a.k.a. simple average\n",
    "   * Population M (Myu), Sample X (X-Bar)\n",
    "   * Downside: easily affected by outliers.\n",
    "\n",
    "\n",
    "2. Median\n",
    "    * The middle number in a sorted dataset.\n",
    "\n",
    "\n",
    "3. Mode\n",
    "    * The value that occurs most often.\n"
   ]
  },
  {
   "cell_type": "markdown",
   "metadata": {},
   "source": [
    "Skewness\n",
    "- Indicates whether the data is concentrated on one side.\n",
    "- Exercise in S4_L16\n",
    "- Right skewness means the outliers to the right. Mean>Median where the Mode is value with highest representation. Positive skew.\n",
    "- Zero Skew. Symmetrical.\n",
    "- Left skew means the Mean < Median. Outliers on the left. Negative skew.\n"
   ]
  },
  {
   "cell_type": "markdown",
   "metadata": {},
   "source": [
    "**Measure of Variablity**\n",
    "\n",
    "- Variance\n",
    "    - The lower the difference of a number to its mean, the smaller the variance. The higher/further from mean, the bigger the variance.\n",
    "    - Population Variance is divided by Pop. number, but sample variance is n-1.\n",
    "\n",
    "\n",
    "- Standard Deviation\n",
    "    - In most analysis, STD is more significant than Variance.\n",
    "    - Formula = Squareroot of Variance\n",
    "\n",
    "\n",
    "- Coefficient of Variation\n",
    "    - Also known as Relative Standard Deviation \n",
    "    - Formula = Standard Deviation/Mean\n",
    "    - Comparing two standard deviations from different dataset is meaningless, but comparing coefficient of variation is not.\n",
    "    \n",
    "\n"
   ]
  },
  {
   "cell_type": "code",
   "execution_count": 15,
   "metadata": {},
   "outputs": [
    {
     "name": "stdout",
     "output_type": "stream",
     "text": [
      "mean 3.2\n",
      "pop var 2.96\n",
      "sample var 3.2888888888888888\n"
     ]
    }
   ],
   "source": [
    "# population variance\n",
    "mean_ = (1+1+1+2+3+4+5+5+5+5)/10\n",
    "print('mean',mean_)\n",
    "\n",
    "pop_ = [1,1,1,2,3,4,5,5,5,5]\n",
    "_ = 0\n",
    "for i in pop_:\n",
    "#     print(i, _)\n",
    "    _+= (i-mean_)**2\n",
    "\n",
    "print('pop var', _/10)\n",
    "\n",
    "\n",
    "# sample variance\n",
    "print('sample var', _/9)"
   ]
  },
  {
   "cell_type": "code",
   "execution_count": null,
   "metadata": {},
   "outputs": [],
   "source": [
    "# Exercise of Standard Deviation and Coefficient Variation\n",
    "# S4L21\n",
    "\n"
   ]
  }
 ],
 "metadata": {
  "kernelspec": {
   "display_name": "Python 3",
   "language": "python",
   "name": "python3"
  },
  "language_info": {
   "codemirror_mode": {
    "name": "ipython",
    "version": 3
   },
   "file_extension": ".py",
   "mimetype": "text/x-python",
   "name": "python",
   "nbconvert_exporter": "python",
   "pygments_lexer": "ipython3",
   "version": "3.7.3"
  }
 },
 "nbformat": 4,
 "nbformat_minor": 2
}
